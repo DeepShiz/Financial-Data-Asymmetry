{
 "cells": [
  {
   "cell_type": "code",
   "execution_count": 60,
   "metadata": {},
   "outputs": [],
   "source": [
    "import numpy as np\n",
    "import matplotlib.pyplot as plt\n",
    "import pandas as pd\n",
    "from sklearn.externals import joblib\n",
    "from sklearn.linear_model import LinearRegression\n",
    "from sklearn.model_selection import train_test_split\n",
    "from sklearn.metrics import mean_squared_error, accuracy_score, r2_score"
   ]
  },
  {
   "cell_type": "code",
   "execution_count": 61,
   "metadata": {},
   "outputs": [
    {
     "name": "stdout",
     "output_type": "stream",
     "text": [
      "          Date    Open    High     Low    Last   Close  Total Trade Quantity  \\\n",
      "0     05-11-04   88.00   88.00   70.00   75.55   75.55             232535736   \n",
      "1     08-11-04   76.80   78.60   75.00   75.15   75.20              68865277   \n",
      "2     09-11-04   75.10   76.10   74.55   75.25   75.30              37460886   \n",
      "3     10-11-04   75.50   75.95   75.00   75.05   75.05              17413433   \n",
      "4     11-11-04   75.35   75.40   74.30   74.60   74.45              15961426   \n",
      "...        ...     ...     ...     ...     ...     ...                   ...   \n",
      "2029  02-01-13  156.30  158.00  156.25  157.50  157.50               1285883   \n",
      "2030  03-01-13  157.75  159.40  156.80  157.60  157.55               1998735   \n",
      "2031  04-01-13  157.95  159.40  157.60  158.70  158.90               1432012   \n",
      "2032  07-01-13  159.00  159.25  156.75  157.20  157.60               1315208   \n",
      "2033  08-01-13  157.50  158.00  156.50  157.80  157.45               2827055   \n",
      "\n",
      "      Turnover (Lacs)  \n",
      "0           170036.32  \n",
      "1            52940.24  \n",
      "2            28202.36  \n",
      "3            13115.85  \n",
      "4            11930.37  \n",
      "...               ...  \n",
      "2029          2024.53  \n",
      "2030          3155.05  \n",
      "2031          2269.94  \n",
      "2032          2074.26  \n",
      "2033          4439.31  \n",
      "\n",
      "[2034 rows x 8 columns]\n"
     ]
    }
   ],
   "source": [
    "dataset_train = pd.read_csv('train.csv')\n",
    "print(dataset_train)"
   ]
  },
  {
   "cell_type": "code",
   "execution_count": 62,
   "metadata": {},
   "outputs": [
    {
     "name": "stdout",
     "output_type": "stream",
     "text": [
      "[[ 75.55]\n",
      " [ 75.2 ]\n",
      " [ 75.3 ]\n",
      " ...\n",
      " [158.9 ]\n",
      " [157.6 ]\n",
      " [157.45]]\n"
     ]
    }
   ],
   "source": [
    "training_set = dataset_train.iloc[:, 5:6].values\n",
    "print(training_set)"
   ]
  },
  {
   "cell_type": "code",
   "execution_count": 63,
   "metadata": {},
   "outputs": [],
   "source": [
    "from sklearn.preprocessing import MinMaxScaler\n",
    "sc = MinMaxScaler(feature_range = (0, 1))\n",
    "training_set_scaled = sc.fit_transform(training_set)"
   ]
  },
  {
   "cell_type": "code",
   "execution_count": 66,
   "metadata": {},
   "outputs": [],
   "source": [
    "X_train = []\n",
    "y_train = []\n",
    "for i in range(60, 2034):\n",
    "    X_train.append(training_set_scaled[i-60:i, 0])\n",
    "    y_train.append(training_set_scaled[i, 0])\n",
    "X_train, y_train = np.array(X_train), np.array(y_train)\n",
    "\n",
    "X_train = np.reshape(X_train, (X_train.shape[0], X_train.shape[1], 1))"
   ]
  },
  {
   "cell_type": "code",
   "execution_count": 22,
   "metadata": {},
   "outputs": [],
   "source": [
    "from keras.models import Sequential\n",
    "from keras.layers import Dense\n",
    "from keras.layers import LSTM\n",
    "from keras.layers import Dropout"
   ]
  },
  {
   "cell_type": "code",
   "execution_count": 42,
   "metadata": {},
   "outputs": [
    {
     "name": "stdout",
     "output_type": "stream",
     "text": [
      "Epoch 1/80\n",
      "1940/1940 [==============================] - 6s 3ms/step - loss: 0.0122\n",
      "Epoch 2/80\n",
      "1940/1940 [==============================] - 5s 3ms/step - loss: 0.0029\n",
      "Epoch 3/80\n",
      "1940/1940 [==============================] - 5s 3ms/step - loss: 0.0029\n",
      "Epoch 4/80\n",
      "1940/1940 [==============================] - 6s 3ms/step - loss: 0.0028\n",
      "Epoch 5/80\n",
      "1940/1940 [==============================] - 5s 3ms/step - loss: 0.0027\n",
      "Epoch 6/80\n",
      "1940/1940 [==============================] - 6s 3ms/step - loss: 0.0024\n",
      "Epoch 7/80\n",
      "1940/1940 [==============================] - 5s 3ms/step - loss: 0.0024\n",
      "Epoch 8/80\n",
      "1940/1940 [==============================] - 6s 3ms/step - loss: 0.0024\n",
      "Epoch 9/80\n",
      "1940/1940 [==============================] - 7s 3ms/step - loss: 0.0022\n",
      "Epoch 10/80\n",
      "1940/1940 [==============================] - 6s 3ms/step - loss: 0.0021\n",
      "Epoch 11/80\n",
      "1940/1940 [==============================] - 6s 3ms/step - loss: 0.0021\n",
      "Epoch 12/80\n",
      "1940/1940 [==============================] - 6s 3ms/step - loss: 0.0020\n",
      "Epoch 13/80\n",
      "1940/1940 [==============================] - 5s 2ms/step - loss: 0.0020\n",
      "Epoch 14/80\n",
      "1940/1940 [==============================] - 5s 3ms/step - loss: 0.0018\n",
      "Epoch 15/80\n",
      "1940/1940 [==============================] - 5s 3ms/step - loss: 0.0018\n",
      "Epoch 16/80\n",
      "1940/1940 [==============================] - 5s 2ms/step - loss: 0.0019\n",
      "Epoch 17/80\n",
      "1940/1940 [==============================] - 5s 2ms/step - loss: 0.0017\n",
      "Epoch 18/80\n",
      "1940/1940 [==============================] - 5s 3ms/step - loss: 0.0018\n",
      "Epoch 19/80\n",
      "1940/1940 [==============================] - 5s 3ms/step - loss: 0.0018\n",
      "Epoch 20/80\n",
      "1940/1940 [==============================] - 7s 3ms/step - loss: 0.0017\n",
      "Epoch 21/80\n",
      "1940/1940 [==============================] - 6s 3ms/step - loss: 0.0015\n",
      "Epoch 22/80\n",
      "1940/1940 [==============================] - 6s 3ms/step - loss: 0.0015A: 1s - loss: 0 - ETA: 1s \n",
      "Epoch 23/80\n",
      "1940/1940 [==============================] - 7s 4ms/step - loss: 0.0015\n",
      "Epoch 24/80\n",
      "1940/1940 [==============================] - 6s 3ms/step - loss: 0.0014\n",
      "Epoch 25/80\n",
      "1940/1940 [==============================] - 6s 3ms/step - loss: 0.0014\n",
      "Epoch 26/80\n",
      "1940/1940 [==============================] - 5s 3ms/step - loss: 0.0014\n",
      "Epoch 27/80\n",
      "1940/1940 [==============================] - 5s 3ms/step - loss: 0.0014\n",
      "Epoch 28/80\n",
      "1940/1940 [==============================] - 6s 3ms/step - loss: 0.0013\n",
      "Epoch 29/80\n",
      "1940/1940 [==============================] - 6s 3ms/step - loss: 0.0015\n",
      "Epoch 30/80\n",
      "1940/1940 [==============================] - 5s 3ms/step - loss: 0.0013\n",
      "Epoch 31/80\n",
      "1940/1940 [==============================] - 5s 3ms/step - loss: 0.0013\n",
      "Epoch 32/80\n",
      "1940/1940 [==============================] - 6s 3ms/step - loss: 0.0012\n",
      "Epoch 33/80\n",
      "1940/1940 [==============================] - 6s 3ms/step - loss: 0.0012\n",
      "Epoch 34/80\n",
      "1940/1940 [==============================] - 5s 3ms/step - loss: 0.0012\n",
      "Epoch 35/80\n",
      "1940/1940 [==============================] - 6s 3ms/step - loss: 0.0011\n",
      "Epoch 36/80\n",
      "1940/1940 [==============================] - 5s 3ms/step - loss: 0.0012\n",
      "Epoch 37/80\n",
      "1940/1940 [==============================] - 5s 2ms/step - loss: 0.0011\n",
      "Epoch 38/80\n",
      "1940/1940 [==============================] - 6s 3ms/step - loss: 0.0010\n",
      "Epoch 39/80\n",
      "1940/1940 [==============================] - 5s 3ms/step - loss: 0.0011\n",
      "Epoch 40/80\n",
      "1940/1940 [==============================] - 6s 3ms/step - loss: 9.7214e-04\n",
      "Epoch 41/80\n",
      "1940/1940 [==============================] - 5s 3ms/step - loss: 0.0011\n",
      "Epoch 42/80\n",
      "1940/1940 [==============================] - 5s 3ms/step - loss: 9.1418e-04\n",
      "Epoch 43/80\n",
      "1940/1940 [==============================] - 5s 3ms/step - loss: 9.3298e-04\n",
      "Epoch 44/80\n",
      "1940/1940 [==============================] - 5s 3ms/step - loss: 9.3100e-04\n",
      "Epoch 45/80\n",
      "1940/1940 [==============================] - 5s 3ms/step - loss: 9.0644e-04\n",
      "Epoch 46/80\n",
      "1940/1940 [==============================] - 5s 3ms/step - loss: 9.2986e-04\n",
      "Epoch 47/80\n",
      "1940/1940 [==============================] - 6s 3ms/step - loss: 9.4682e-04\n",
      "Epoch 48/80\n",
      "1940/1940 [==============================] - 6s 3ms/step - loss: 8.2561e-04\n",
      "Epoch 49/80\n",
      "1940/1940 [==============================] - 5s 3ms/step - loss: 8.2019e-04\n",
      "Epoch 50/80\n",
      "1940/1940 [==============================] - 5s 3ms/step - loss: 8.9429e-04\n",
      "Epoch 51/80\n",
      "1940/1940 [==============================] - 5s 3ms/step - loss: 9.2473e-04\n",
      "Epoch 52/80\n",
      "1940/1940 [==============================] - 5s 3ms/step - loss: 8.2174e-04\n",
      "Epoch 53/80\n",
      "1940/1940 [==============================] - 5s 3ms/step - loss: 7.7287e-04\n",
      "Epoch 54/80\n",
      "1940/1940 [==============================] - 6s 3ms/step - loss: 8.5334e-04\n",
      "Epoch 55/80\n",
      "1940/1940 [==============================] - 6s 3ms/step - loss: 7.5680e-04\n",
      "Epoch 56/80\n",
      "1940/1940 [==============================] - 7s 4ms/step - loss: 7.9753e-04\n",
      "Epoch 57/80\n",
      "1940/1940 [==============================] - 6s 3ms/step - loss: 7.5596e-04\n",
      "Epoch 58/80\n",
      "1940/1940 [==============================] - 5s 3ms/step - loss: 7.7393e-04\n",
      "Epoch 59/80\n",
      "1940/1940 [==============================] - 6s 3ms/step - loss: 7.7289e-04\n",
      "Epoch 60/80\n",
      "1940/1940 [==============================] - 6s 3ms/step - loss: 7.3769e-04\n",
      "Epoch 61/80\n",
      "1940/1940 [==============================] - 6s 3ms/step - loss: 7.4319e-04\n",
      "Epoch 62/80\n",
      "1940/1940 [==============================] - 6s 3ms/step - loss: 6.9958e-04\n",
      "Epoch 63/80\n",
      "1940/1940 [==============================] - 5s 3ms/step - loss: 7.2899e-04\n",
      "Epoch 64/80\n",
      "1940/1940 [==============================] - 5s 3ms/step - loss: 7.5459e-04A: 1s - lo\n",
      "Epoch 65/80\n",
      "1940/1940 [==============================] - 6s 3ms/step - loss: 6.6685e-04\n",
      "Epoch 66/80\n",
      "1940/1940 [==============================] - 5s 3ms/step - loss: 6.7350e-04\n",
      "Epoch 67/80\n",
      "1940/1940 [==============================] - 6s 3ms/step - loss: 6.2865e-04\n",
      "Epoch 68/80\n",
      "1940/1940 [==============================] - 5s 3ms/step - loss: 6.4361e-04\n",
      "Epoch 69/80\n",
      "1940/1940 [==============================] - 5s 2ms/step - loss: 6.1717e-04\n",
      "Epoch 70/80\n",
      "1940/1940 [==============================] - 5s 3ms/step - loss: 6.2999e-04\n",
      "Epoch 71/80\n",
      "1940/1940 [==============================] - 5s 3ms/step - loss: 6.7695e-04\n",
      "Epoch 72/80\n",
      "1940/1940 [==============================] - 5s 3ms/step - loss: 6.3455e-04\n",
      "Epoch 73/80\n",
      "1940/1940 [==============================] - 6s 3ms/step - loss: 7.2009e-04\n",
      "Epoch 74/80\n",
      "1940/1940 [==============================] - 5s 3ms/step - loss: 6.3761e-04A: 0s - loss\n",
      "Epoch 75/80\n",
      "1940/1940 [==============================] - 5s 3ms/step - loss: 6.3535e-04\n",
      "Epoch 76/80\n",
      "1940/1940 [==============================] - 5s 3ms/step - loss: 6.2342e-04\n",
      "Epoch 77/80\n",
      "1940/1940 [==============================] - 5s 3ms/step - loss: 6.1029e-04\n",
      "Epoch 78/80\n",
      "1940/1940 [==============================] - 5s 3ms/step - loss: 6.7988e-04\n",
      "Epoch 79/80\n",
      "1940/1940 [==============================] - 5s 3ms/step - loss: 6.3480e-04\n",
      "Epoch 80/80\n",
      "1940/1940 [==============================] - 5s 3ms/step - loss: 5.9769e-04\n"
     ]
    },
    {
     "data": {
      "text/plain": [
       "<keras.callbacks.callbacks.History at 0x1ff4e408>"
      ]
     },
     "execution_count": 42,
     "metadata": {},
     "output_type": "execute_result"
    }
   ],
   "source": [
    "regressor = Sequential()\n",
    "\n",
    "regressor.add(LSTM(units = 60, return_sequences = True, input_shape = (X_train.shape[1], 1)))\n",
    "regressor.add(Dropout(0.2))\n",
    "\n",
    "regressor.add(LSTM(units = 60))\n",
    "regressor.add(Dropout(0.2))\n",
    "\n",
    "regressor.add(Dense(units = 1))\n",
    "\n",
    "regressor.compile(optimizer = 'adam', loss = 'mean_squared_error')\n",
    "\n",
    "regressor.fit(X_train, y_train, epochs = 80, batch_size = 32)"
   ]
  },
  {
   "cell_type": "code",
   "execution_count": 86,
   "metadata": {},
   "outputs": [],
   "source": [
    "dataset_test = pd.read_csv('test2.csv')\n",
    "real_stock_price = dataset_test.iloc[:, 5:6].values"
   ]
  },
  {
   "cell_type": "code",
   "execution_count": 91,
   "metadata": {},
   "outputs": [],
   "source": [
    "dataset_total = pd.concat((dataset_train['Close'], dataset_test['Close']), axis =0)\n",
    "#print(dataset_total)\n",
    "inputs = dataset_total[len(dataset_total) - len(dataset_test) - 60:].values\n",
    "inputs = inputs.reshape(-1,1)\n",
    "#print(inputs)\n",
    "inputs = sc.transform(inputs)\n",
    "X_test = []\n",
    "for i in range(60, 760) :\n",
    "    X_test.append(inputs[i-60:i, 0])\n",
    "X_test = np.array(X_test)\n",
    "X_test = np.reshape(X_test, (X_test.shape[0], X_test.shape[1], 1))\n",
    "predicted_stock_price = regressor.predict(X_test)\n",
    "predicted_stock_price = sc.inverse_transform(predicted_stock_price)"
   ]
  },
  {
   "cell_type": "code",
   "execution_count": 92,
   "metadata": {},
   "outputs": [
    {
     "data": {
      "image/png": "[encoded data removed]",
      "text/plain": [
       "<Figure size 432x288 with 1 Axes>"
      ]
     },
     "metadata": {
      "needs_background": "light"
     },
     "output_type": "display_data"
    }
   ],
   "source": [
    "plt.plot(real_stock_price, color = 'black', label = 'NTPC Price')\n",
    "plt.plot(predicted_stock_price, color = 'red', label = 'Predicted NTPC Price')\n",
    "plt.title('NTPC  Stock Price Prediction')\n",
    "plt.xlabel('Time')\n",
    "plt.ylabel('NTPC Stock Price')\n",
    "plt.legend()\n",
    "plt.show()"
   ]
  },
  {
   "cell_type": "code",
   "execution_count": 95,
   "metadata": {},
   "outputs": [],
   "source": [
    "dataset_test1 = pd.read_csv('test1.csv')\n",
    "real_stock_price1 = dataset_test1.iloc[:, 5:6].values"
   ]
  },
  {
   "cell_type": "code",
   "execution_count": 96,
   "metadata": {},
   "outputs": [],
   "source": [
    "inputt=[]\n",
    "inputt=dataset_test1['Close'].values\n",
    "inputt = inputt.reshape(-1,1)"
   ]
  },
  {
   "cell_type": "code",
   "execution_count": 97,
   "metadata": {},
   "outputs": [
    {
     "data": {
      "text/plain": [
       "(64, 1)"
      ]
     },
     "execution_count": 97,
     "metadata": {},
     "output_type": "execute_result"
    }
   ],
   "source": [
    "inputt.shape"
   ]
  },
  {
   "cell_type": "code",
   "execution_count": 98,
   "metadata": {},
   "outputs": [],
   "source": [
    "inputt = sc.transform(inputt)\n",
    "X_test1 = []\n",
    "for i in range(60, 61) :\n",
    "    X_test1.append(inputt[i-60:i, 0])\n",
    "X_test1 = np.array(X_test1)\n",
    "X_test1 = np.reshape(X_test1, (X_test1.shape[0], X_test1.shape[1], 1))\n",
    "predicted_stock_price1 = regressor.predict(X_test1)\n",
    "predicted_stock_price1 = sc.inverse_transform(predicted_stock_price1)"
   ]
  },
  {
   "cell_type": "code",
   "execution_count": 99,
   "metadata": {},
   "outputs": [
    {
     "name": "stdout",
     "output_type": "stream",
     "text": [
      "[[147.016]]\n"
     ]
    }
   ],
   "source": [
    "print(predicted_stock_price1)"
   ]
  },
  {
   "cell_type": "code",
   "execution_count": null,
   "metadata": {},
   "outputs": [],
   "source": []
  },
  {
   "cell_type": "code",
   "execution_count": null,
   "metadata": {},
   "outputs": [],
   "source": []
  }
 ],
 "metadata": {
  "kernelspec": {
   "display_name": "Python 3",
   "language": "python",
   "name": "python3"
  },
  "language_info": {
   "codemirror_mode": {
    "name": "ipython",
    "version": 3
   },
   "file_extension": ".py",
   "mimetype": "text/x-python",
   "name": "python",
   "nbconvert_exporter": "python",
   "pygments_lexer": "ipython3",
   "version": "3.7.6"
  }
 },
 "nbformat": 4,
 "nbformat_minor": 4
}
